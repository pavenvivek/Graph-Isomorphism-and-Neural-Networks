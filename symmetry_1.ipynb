{
 "cells": [
  {
   "cell_type": "code",
   "execution_count": 9,
   "metadata": {},
   "outputs": [
    {
     "name": "stdout",
     "output_type": "stream",
     "text": [
      "(22200, 1, 5, 5)\n",
      "(22200,)\n"
     ]
    }
   ],
   "source": [
    "import tensorflow as tf\n",
    "import numpy as np\n",
    "import ast, math\n",
    "import time\n",
    "\n",
    "#cls = np.load('training_data_g7_2_12_6_4_cls.npy')\n",
    "#data = np.load('training_data_g7_2_12_6_4_data.npy')\n",
    "\n",
    "cls = np.load('training_data_g5_cls.npy')\n",
    "data = np.load('training_data_g5_data.npy')\n",
    "\n",
    "x_train = data\n",
    "y_train = cls\n",
    "\n",
    "#print(set(cls))\n",
    "print(x_train.shape)\n",
    "print(y_train.shape)\n"
   ]
  },
  {
   "cell_type": "code",
   "execution_count": 10,
   "metadata": {},
   "outputs": [
    {
     "name": "stdout",
     "output_type": "stream",
     "text": [
      "Epoch 1/5\n",
      "694/694 [==============================] - 4s 5ms/step - loss: 0.6009 - accuracy: 0.8742\n",
      "Epoch 2/5\n",
      "694/694 [==============================] - 4s 5ms/step - loss: 0.2270 - accuracy: 0.9762\n",
      "Epoch 3/5\n",
      "694/694 [==============================] - 4s 5ms/step - loss: 0.1628 - accuracy: 0.9801\n",
      "Epoch 4/5\n",
      "694/694 [==============================] - 4s 5ms/step - loss: 0.1326 - accuracy: 0.9832\n",
      "Epoch 5/5\n",
      "694/694 [==============================] - 4s 5ms/step - loss: 0.1139 - accuracy: 0.9856\n",
      "Model: \"sequential_2\"\n",
      "_________________________________________________________________\n",
      "Layer (type)                 Output Shape              Param #   \n",
      "=================================================================\n",
      "flatten_2 (Flatten)          (None, 25)                0         \n",
      "_________________________________________________________________\n",
      "dense_6 (Dense)              (None, 1200)              31200     \n",
      "_________________________________________________________________\n",
      "dense_7 (Dense)              (None, 800)               960800    \n",
      "_________________________________________________________________\n",
      "dropout_2 (Dropout)          (None, 800)               0         \n",
      "_________________________________________________________________\n",
      "dense_8 (Dense)              (None, 5)                 4005      \n",
      "=================================================================\n",
      "Total params: 996,005\n",
      "Trainable params: 996,005\n",
      "Non-trainable params: 0\n",
      "_________________________________________________________________\n",
      "Training completed. Execution time: 18.106292247772217\n"
     ]
    }
   ],
   "source": [
    "# Training\n",
    "\n",
    "start = time.time()\n",
    "\n",
    "model = tf.keras.models.Sequential([\n",
    "  tf.keras.layers.Flatten(input_shape=data[0].shape),\n",
    "  tf.keras.layers.Dense(1200, activation='relu'),\n",
    "  tf.keras.layers.Dense(800, activation='relu'),\n",
    "  #tf.keras.layers.Dense(400, activation='relu'),\n",
    "  tf.keras.layers.Dropout(0.2),\n",
    "  tf.keras.layers.Dense(len(set(cls)), activation='softmax')\n",
    "])\n",
    "\n",
    "model.compile(optimizer='sgd',\n",
    "              loss='sparse_categorical_crossentropy', \n",
    "              metrics=['accuracy'])\n",
    "\n",
    "history = model.fit(x_train, y_train, epochs=5)\n",
    "model.summary()\n",
    "\n",
    "stop = time.time()\n",
    "\n",
    "print (\"Training completed. Execution time: {}\".format(stop - start))"
   ]
  },
  {
   "cell_type": "code",
   "execution_count": 11,
   "metadata": {},
   "outputs": [
    {
     "name": "stdout",
     "output_type": "stream",
     "text": [
      "(222,)\n",
      "(222, 1, 5, 5)\n"
     ]
    }
   ],
   "source": [
    "#cls, data = read_data('test_data.txt')\n",
    "\n",
    "#cls = np.load('test_data_g7_12_6_4_cls.npy')\n",
    "#data = np.load('test_data_g7_12_6_4_data.npy')\n",
    "\n",
    "cls = np.load('test_data_g5_cls.npy')\n",
    "data = np.load('test_data_g5_data.npy')\n",
    "\n",
    "print(cls.shape)\n",
    "print(data.shape)\n"
   ]
  },
  {
   "cell_type": "code",
   "execution_count": 12,
   "metadata": {},
   "outputs": [
    {
     "name": "stdout",
     "output_type": "stream",
     "text": [
      "WARNING:tensorflow:Model was constructed with shape (None, 1, 5, 5) for input Tensor(\"flatten_2_input:0\", shape=(None, 1, 5, 5), dtype=float32), but it was called on an input with incompatible shape (None, 5, 5).\n",
      "class: 4, y_pred: 2\n",
      "class: 4, y_pred: 2\n",
      "class: 4, y_pred: 2\n",
      "class: 4, y_pred: 2\n",
      "class: 4, y_pred: 2\n",
      "class: 4, y_pred: 2\n",
      "class: 4, y_pred: 2\n",
      "class: 4, y_pred: 2\n",
      "class: 4, y_pred: 2\n",
      "class: 4, y_pred: 2\n",
      "class: 4, y_pred: 2\n",
      "class: 4, y_pred: 2\n",
      "successfull predictions: 210/222\n",
      "Failure map: {0: 0, 1: 0, 2: 12, 3: 0, 4: 12}\n",
      "success percentage: 94.5945945945946%\n",
      "Testing completed. Execution time: 6.2207231521606445\n"
     ]
    }
   ],
   "source": [
    "# Testing\n",
    "\n",
    "start = time.time()\n",
    "\n",
    "i = 0\n",
    "success = 0\n",
    "failure = 0\n",
    "\n",
    "wrong_preds = {key: 0 for key in set(cls)}\n",
    "\n",
    "for d in data:\n",
    "    #y_pred = model.predict(d)\n",
    "    y_pred_class = model.predict_classes(d)\n",
    "    \n",
    "    if y_pred_class[0] == cls[i]:\n",
    "        success = success + 1\n",
    "    else:\n",
    "        failure = failure + 1\n",
    "        print (\"class: {}, y_pred: {}\".format(cls[i], y_pred_class[0])) #, y_pred[0,:]))\n",
    "        #print (\"class: {}, y_pred: {}, weights: {}\".format(cls[i], y_pred_class[0], y_pred[0,:]))\n",
    "        wrong_preds[y_pred_class[0]] = wrong_preds[y_pred_class[0]] + 1\n",
    "        wrong_preds[cls[i]] = wrong_preds[cls[i]] + 1\n",
    "        \n",
    "    i = i + 1\n",
    "    \n",
    "print (\"successfull predictions: {}/{}\".format(success, len(cls)))\n",
    "print (\"Failure map: {}\".format(wrong_preds))\n",
    "sp = (success/len(cls)) * 100\n",
    "print (\"success percentage: {}%\".format(sp))\n",
    "\n",
    "stop = time.time()\n",
    "\n",
    "print (\"Testing completed. Execution time: {}\".format(stop - start))"
   ]
  },
  {
   "cell_type": "code",
   "execution_count": null,
   "metadata": {},
   "outputs": [],
   "source": []
  },
  {
   "cell_type": "code",
   "execution_count": null,
   "metadata": {},
   "outputs": [],
   "source": []
  }
 ],
 "metadata": {
  "kernelspec": {
   "display_name": "Python 3",
   "language": "python",
   "name": "python3"
  },
  "language_info": {
   "codemirror_mode": {
    "name": "ipython",
    "version": 3
   },
   "file_extension": ".py",
   "mimetype": "text/x-python",
   "name": "python",
   "nbconvert_exporter": "python",
   "pygments_lexer": "ipython3",
   "version": "3.8.5"
  }
 },
 "nbformat": 4,
 "nbformat_minor": 4
}
