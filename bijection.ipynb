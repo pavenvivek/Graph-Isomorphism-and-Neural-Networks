{
 "cells": [
  {
   "cell_type": "code",
   "execution_count": 2,
   "metadata": {},
   "outputs": [],
   "source": [
    "import tensorflow as tf\n",
    "import numpy as np\n",
    "import ast, math\n",
    "\n",
    "def read_data(filename):\n",
    "    with open(filename, 'r') as fh:\n",
    "        cls = []\n",
    "        data = None\n",
    "        for ln in fh:\n",
    "            \n",
    "            d = ln.split(':')\n",
    "            d1 = ast.literal_eval(d[0])\n",
    "            cls.append(d1)\n",
    "            \n",
    "            d2 = np.array([ast.literal_eval(d[1].rstrip())])\n",
    "            \n",
    "            if data is None:\n",
    "                data = d2\n",
    "            else:\n",
    "                data = np.append(data, d2, axis = 0)\n",
    "            \n",
    "        return cls, data\n",
    "\n",
    "cls, data = read_data('training_data_bijection.txt')\n"
   ]
  },
  {
   "cell_type": "code",
   "execution_count": 3,
   "metadata": {},
   "outputs": [],
   "source": [
    "x_train = data\n",
    "y_train = np.array(cls)\n",
    "\n",
    "#print(set(cls))\n",
    "\n",
    "model = tf.keras.models.Sequential([\n",
    "  tf.keras.layers.Flatten(input_shape=x_train[0].shape),\n",
    "  tf.keras.layers.Dense(1200, activation='relu'),\n",
    "  tf.keras.layers.Dense(800, activation='relu'),\n",
    "  #tf.keras.layers.Dense(400, activation='relu'),\n",
    "  tf.keras.layers.Dropout(0.2),\n",
    "  tf.keras.layers.Dense(len(set(cls)), activation='softmax')\n",
    "])"
   ]
  },
  {
   "cell_type": "code",
   "execution_count": 4,
   "metadata": {},
   "outputs": [
    {
     "name": "stdout",
     "output_type": "stream",
     "text": [
      "(90005, 6, 5)\n",
      "(90005,)\n"
     ]
    }
   ],
   "source": [
    "model.compile(optimizer='sgd',\n",
    "              loss='sparse_categorical_crossentropy', \n",
    "              metrics=['accuracy'])\n",
    "\n",
    "print(x_train.shape)\n",
    "print(y_train.shape)"
   ]
  },
  {
   "cell_type": "code",
   "execution_count": 5,
   "metadata": {},
   "outputs": [
    {
     "name": "stdout",
     "output_type": "stream",
     "text": [
      "Epoch 1/5\n",
      "2813/2813 [==============================] - 15s 5ms/step - loss: 0.4272 - accuracy: 0.8527\n",
      "Epoch 2/5\n",
      "2813/2813 [==============================] - 15s 5ms/step - loss: 0.1563 - accuracy: 0.9534\n",
      "Epoch 3/5\n",
      "2813/2813 [==============================] - 15s 5ms/step - loss: 0.0904 - accuracy: 0.9744\n",
      "Epoch 4/5\n",
      "2813/2813 [==============================] - 15s 5ms/step - loss: 0.0609 - accuracy: 0.9838\n",
      "Epoch 5/5\n",
      "2813/2813 [==============================] - 15s 5ms/step - loss: 0.0475 - accuracy: 0.9879\n"
     ]
    }
   ],
   "source": [
    "history = model.fit(x_train, y_train, epochs=5)"
   ]
  },
  {
   "cell_type": "code",
   "execution_count": 7,
   "metadata": {},
   "outputs": [
    {
     "name": "stdout",
     "output_type": "stream",
     "text": [
      "Model: \"sequential\"\n",
      "_________________________________________________________________\n",
      "Layer (type)                 Output Shape              Param #   \n",
      "=================================================================\n",
      "flatten (Flatten)            (None, 30)                0         \n",
      "_________________________________________________________________\n",
      "dense (Dense)                (None, 1200)              37200     \n",
      "_________________________________________________________________\n",
      "dense_1 (Dense)              (None, 800)               960800    \n",
      "_________________________________________________________________\n",
      "dropout (Dropout)            (None, 800)               0         \n",
      "_________________________________________________________________\n",
      "dense_2 (Dense)              (None, 5)                 4005      \n",
      "=================================================================\n",
      "Total params: 1,002,005\n",
      "Trainable params: 1,002,005\n",
      "Non-trainable params: 0\n",
      "_________________________________________________________________\n"
     ]
    }
   ],
   "source": [
    "model.summary()"
   ]
  },
  {
   "cell_type": "code",
   "execution_count": 10,
   "metadata": {},
   "outputs": [
    {
     "name": "stdout",
     "output_type": "stream",
     "text": [
      "WARNING:tensorflow:From <ipython-input-10-9c17e2589240>:27: Sequential.predict_classes (from tensorflow.python.keras.engine.sequential) is deprecated and will be removed after 2021-01-01.\n",
      "Instructions for updating:\n",
      "Please use instead:* `np.argmax(model.predict(x), axis=-1)`,   if your model does multi-class classification   (e.g. if it uses a `softmax` last-layer activation).* `(model.predict(x) > 0.5).astype(\"int32\")`,   if your model does binary classification   (e.g. if it uses a `sigmoid` last-layer activation).\n",
      "successfull predictions: 300/300\n",
      "success percentage: 100.0%\n"
     ]
    }
   ],
   "source": [
    "t0 = np.array([[[0.0, 1.0, 1.0, 1.0], [1.0, 0.0, 1.0, 1.0], [1.0, 1.0, 0.0, 1.0], [1.0, 1.0, 1.0, 0.0]]])\n",
    "t1 = np.array([[[0.0, 1.0, 1.0, 1.0], [1.0, 0.0, 0.0, 1.0], [1.0, 0.0, 0.0, 1.0], [1.0, 1.0, 1.0, 0.0]]])\n",
    "t2 = np.array([[[0.0, 0.0, 1.0, 1.0], [0.0, 0.0, 0.0, 1.0], [1.0, 0.0, 0.0, 1.0], [1.0, 1.0, 1.0, 0.0]]])\n",
    "t5 = np.array([[[0.0, 0.0, 1.0, 1.0], [0.0, 0.0, 0.0, 1.0], [1.0, 0.0, 0.0, 0.0], [1.0, 1.0, 0.0, 0.0]]])\n",
    "t4 = np.array([[[0.0, 1.0, 1.0, 1.0], [1.0, 0.0, 0.0, 0.0], [1.0, 0.0, 0.0, 0.0], [1.0, 0.0, 0.0, 0.0]]])\n",
    "t3 = np.array([[[0.0, 1.0, 1.0, 0.0], [1.0, 0.0, 0.0, 1.0], [1.0, 0.0, 0.0, 1.0], [0.0, 1.0, 1.0, 0.0]]])\n",
    "t5_1 = np.array([[[0.0, 1.0, 0.0, 1.0], [1.0, 0.0, 1.0, 0.0], [0.0, 1.0, 0.0, 0.0], [1.0, 0.0, 0.0, 0.0]]])\n",
    "#x_test = t4\n",
    "#y_pred = model.predict(x_test)\n",
    "#y_pred_class = model.predict_classes(x_test)\n",
    "\n",
    "#print (cls[0])\n",
    "\n",
    "cls, data = read_data('test_data_bijection.txt')\n",
    "\n",
    "i = 0\n",
    "success = 0\n",
    "failure = 0\n",
    "\n",
    "for d in data:\n",
    "    dn = np.array([d])\n",
    "    y_pred = model.predict(dn)\n",
    "    y_pred_class = model.predict_classes(dn)\n",
    "    \n",
    "    if y_pred_class[0] == cls[i]:\n",
    "        success = success + 1\n",
    "    else:\n",
    "        failure = failure + 1\n",
    "        print (\"class: {}, y_pred: {}, weights: {}\".format(cls[i], y_pred_class[0], y_pred[0,:]))\n",
    "        \n",
    "    i = i + 1\n",
    "    \n",
    "print (\"successfull predictions: {}/{}\".format(success, len(cls)))\n",
    "sp = (success/len(cls)) * 100\n",
    "print (\"success percentage: {}%\".format(sp))\n",
    "#''' "
   ]
  },
  {
   "cell_type": "code",
   "execution_count": null,
   "metadata": {},
   "outputs": [],
   "source": []
  },
  {
   "cell_type": "code",
   "execution_count": null,
   "metadata": {},
   "outputs": [],
   "source": []
  },
  {
   "cell_type": "code",
   "execution_count": null,
   "metadata": {},
   "outputs": [],
   "source": []
  }
 ],
 "metadata": {
  "kernelspec": {
   "display_name": "Python 3",
   "language": "python",
   "name": "python3"
  },
  "language_info": {
   "codemirror_mode": {
    "name": "ipython",
    "version": 3
   },
   "file_extension": ".py",
   "mimetype": "text/x-python",
   "name": "python",
   "nbconvert_exporter": "python",
   "pygments_lexer": "ipython3",
   "version": "3.8.5"
  }
 },
 "nbformat": 4,
 "nbformat_minor": 4
}
