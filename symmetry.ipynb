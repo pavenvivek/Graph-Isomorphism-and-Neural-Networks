{
 "cells": [
  {
   "cell_type": "code",
   "execution_count": 18,
   "metadata": {},
   "outputs": [],
   "source": [
    "import tensorflow as tf\n",
    "import numpy as np\n",
    "import ast, math\n",
    "\n",
    "def read_data(filename):\n",
    "    with open(filename, 'r') as fh:\n",
    "        cls = []\n",
    "        data = None\n",
    "        for ln in fh:\n",
    "            \n",
    "            d = ln.split(':')\n",
    "            d1 = ast.literal_eval(d[0])\n",
    "            cls.append(d1)\n",
    "            \n",
    "            d2 = np.array([ast.literal_eval(d[1].rstrip())])\n",
    "            \n",
    "            if data is None:\n",
    "                data = d2\n",
    "            else:\n",
    "                data = np.append(data, d2, axis = 0)\n",
    "            \n",
    "        return cls, data\n",
    "\n",
    "cls, data = read_data('training_data_g5.txt')\n"
   ]
  },
  {
   "cell_type": "code",
   "execution_count": 19,
   "metadata": {},
   "outputs": [
    {
     "name": "stdout",
     "output_type": "stream",
     "text": [
      "{0, 1, 2, 3, 4}\n"
     ]
    }
   ],
   "source": [
    "x_train = data\n",
    "y_train = np.array(cls)\n",
    "\n",
    "print(set(cls))\n",
    "\n",
    "model = tf.keras.models.Sequential([\n",
    "  tf.keras.layers.Flatten(input_shape=data[0].shape),\n",
    "  tf.keras.layers.Dense(1200, activation='relu'),\n",
    "  tf.keras.layers.Dense(800, activation='relu'),\n",
    "  #tf.keras.layers.Dense(400, activation='relu'),\n",
    "  tf.keras.layers.Dropout(0.2),\n",
    "  tf.keras.layers.Dense(len(set(cls)), activation='softmax')\n",
    "])"
   ]
  },
  {
   "cell_type": "code",
   "execution_count": 20,
   "metadata": {},
   "outputs": [
    {
     "name": "stdout",
     "output_type": "stream",
     "text": [
      "(22200, 5, 5)\n",
      "(22200,)\n"
     ]
    }
   ],
   "source": [
    "model.compile(optimizer='sgd',\n",
    "              loss='sparse_categorical_crossentropy', \n",
    "              metrics=['accuracy'])\n",
    "\n",
    "print(x_train.shape)\n",
    "print(y_train.shape)"
   ]
  },
  {
   "cell_type": "code",
   "execution_count": 21,
   "metadata": {},
   "outputs": [
    {
     "name": "stdout",
     "output_type": "stream",
     "text": [
      "Epoch 1/5\n",
      "694/694 [==============================] - 4s 5ms/step - loss: 0.5965 - accuracy: 0.8809\n",
      "Epoch 2/5\n",
      "694/694 [==============================] - 3s 5ms/step - loss: 0.2254 - accuracy: 0.9766\n",
      "Epoch 3/5\n",
      "694/694 [==============================] - 3s 5ms/step - loss: 0.1611 - accuracy: 0.9805\n",
      "Epoch 4/5\n",
      "694/694 [==============================] - 4s 5ms/step - loss: 0.1309 - accuracy: 0.9840\n",
      "Epoch 5/5\n",
      "694/694 [==============================] - 3s 5ms/step - loss: 0.1113 - accuracy: 0.9854\n"
     ]
    }
   ],
   "source": [
    "history = model.fit(x_train, y_train, epochs=5)"
   ]
  },
  {
   "cell_type": "code",
   "execution_count": 23,
   "metadata": {},
   "outputs": [
    {
     "name": "stdout",
     "output_type": "stream",
     "text": [
      "Model: \"sequential_2\"\n",
      "_________________________________________________________________\n",
      "Layer (type)                 Output Shape              Param #   \n",
      "=================================================================\n",
      "flatten_2 (Flatten)          (None, 25)                0         \n",
      "_________________________________________________________________\n",
      "dense_6 (Dense)              (None, 1200)              31200     \n",
      "_________________________________________________________________\n",
      "dense_7 (Dense)              (None, 800)               960800    \n",
      "_________________________________________________________________\n",
      "dropout_2 (Dropout)          (None, 800)               0         \n",
      "_________________________________________________________________\n",
      "dense_8 (Dense)              (None, 5)                 4005      \n",
      "=================================================================\n",
      "Total params: 996,005\n",
      "Trainable params: 996,005\n",
      "Non-trainable params: 0\n",
      "_________________________________________________________________\n"
     ]
    }
   ],
   "source": [
    "model.summary()"
   ]
  },
  {
   "cell_type": "code",
   "execution_count": 25,
   "metadata": {},
   "outputs": [
    {
     "name": "stdout",
     "output_type": "stream",
     "text": [
      "class: 4, y_pred: 2, weights: [0.02649981 0.11525191 0.33480603 0.27191398 0.25152826]\n",
      "class: 4, y_pred: 2, weights: [0.02633029 0.1082854  0.34146297 0.26709655 0.2568248 ]\n",
      "class: 4, y_pred: 2, weights: [0.02609534 0.11230513 0.3386941  0.26469788 0.2582076 ]\n",
      "class: 4, y_pred: 2, weights: [0.02675825 0.11857739 0.31017178 0.27283913 0.27165344]\n",
      "class: 4, y_pred: 2, weights: [0.02330114 0.10822026 0.33504397 0.27412733 0.2593072 ]\n",
      "class: 4, y_pred: 2, weights: [0.02423438 0.10697227 0.32273623 0.2753997  0.27065742]\n",
      "class: 4, y_pred: 2, weights: [0.02464734 0.10654146 0.3467063  0.257991   0.26411393]\n",
      "class: 4, y_pred: 2, weights: [0.02645997 0.10501073 0.34831455 0.2655649  0.25464982]\n",
      "class: 4, y_pred: 2, weights: [0.02504101 0.11138912 0.32486272 0.27705717 0.26164997]\n",
      "class: 4, y_pred: 2, weights: [0.02298217 0.10462749 0.33669168 0.27602065 0.25967795]\n",
      "class: 4, y_pred: 2, weights: [0.02415631 0.11351409 0.3384153  0.26687646 0.2570378 ]\n",
      "class: 4, y_pred: 2, weights: [0.02471198 0.108318   0.32174575 0.2813099  0.26391432]\n",
      "successfull predictions: 210/222\n",
      "success percentage: 94.5945945945946%\n"
     ]
    }
   ],
   "source": [
    "t0 = np.array([[[0.0, 1.0, 1.0, 1.0], [1.0, 0.0, 1.0, 1.0], [1.0, 1.0, 0.0, 1.0], [1.0, 1.0, 1.0, 0.0]]])\n",
    "t1 = np.array([[[0.0, 1.0, 1.0, 1.0], [1.0, 0.0, 0.0, 1.0], [1.0, 0.0, 0.0, 1.0], [1.0, 1.0, 1.0, 0.0]]])\n",
    "t2 = np.array([[[0.0, 0.0, 1.0, 1.0], [0.0, 0.0, 0.0, 1.0], [1.0, 0.0, 0.0, 1.0], [1.0, 1.0, 1.0, 0.0]]])\n",
    "t5 = np.array([[[0.0, 0.0, 1.0, 1.0], [0.0, 0.0, 0.0, 1.0], [1.0, 0.0, 0.0, 0.0], [1.0, 1.0, 0.0, 0.0]]])\n",
    "t4 = np.array([[[0.0, 1.0, 1.0, 1.0], [1.0, 0.0, 0.0, 0.0], [1.0, 0.0, 0.0, 0.0], [1.0, 0.0, 0.0, 0.0]]])\n",
    "t3 = np.array([[[0.0, 1.0, 1.0, 0.0], [1.0, 0.0, 0.0, 1.0], [1.0, 0.0, 0.0, 1.0], [0.0, 1.0, 1.0, 0.0]]])\n",
    "t5_1 = np.array([[[0.0, 1.0, 0.0, 1.0], [1.0, 0.0, 1.0, 0.0], [0.0, 1.0, 0.0, 0.0], [1.0, 0.0, 0.0, 0.0]]])\n",
    "#x_test = t4\n",
    "#y_pred = model.predict(x_test)\n",
    "#y_pred_class = model.predict_classes(x_test)\n",
    "\n",
    "#print (cls[0])\n",
    "\n",
    "cls, data = read_data('test_data_g5.txt')\n",
    "\n",
    "i = 0\n",
    "success = 0\n",
    "failure = 0\n",
    "\n",
    "for d in data:\n",
    "    dn = np.array([d])\n",
    "    y_pred = model.predict(dn)\n",
    "    y_pred_class = model.predict_classes(dn)\n",
    "    \n",
    "    if y_pred_class[0] == cls[i]:\n",
    "        success = success + 1\n",
    "    else:\n",
    "        failure = failure + 1\n",
    "        print (\"class: {}, y_pred: {}, weights: {}\".format(cls[i], y_pred_class[0], y_pred[0,:]))\n",
    "        \n",
    "    i = i + 1\n",
    "    \n",
    "print (\"successfull predictions: {}/{}\".format(success, len(cls)))\n",
    "sp = (success/len(cls)) * 100\n",
    "print (\"success percentage: {}%\".format(sp))\n",
    "#''' "
   ]
  },
  {
   "cell_type": "code",
   "execution_count": null,
   "metadata": {},
   "outputs": [],
   "source": []
  },
  {
   "cell_type": "code",
   "execution_count": null,
   "metadata": {},
   "outputs": [],
   "source": []
  },
  {
   "cell_type": "code",
   "execution_count": null,
   "metadata": {},
   "outputs": [],
   "source": []
  }
 ],
 "metadata": {
  "kernelspec": {
   "display_name": "Python 3",
   "language": "python",
   "name": "python3"
  },
  "language_info": {
   "codemirror_mode": {
    "name": "ipython",
    "version": 3
   },
   "file_extension": ".py",
   "mimetype": "text/x-python",
   "name": "python",
   "nbconvert_exporter": "python",
   "pygments_lexer": "ipython3",
   "version": "3.8.5"
  }
 },
 "nbformat": 4,
 "nbformat_minor": 4
}
